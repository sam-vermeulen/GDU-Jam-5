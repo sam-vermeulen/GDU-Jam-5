{
  "cells": [
    {
      "cell_type": "markdown",
      "metadata": {
        "id": "view-in-github",
        "colab_type": "text"
      },
      "source": [
        "<a href=\"https://colab.research.google.com/github/svermeulen1/GDU-Jam-5/blob/main/Game_of_PIG.ipynb\" target=\"_parent\"><img src=\"https://colab.research.google.com/assets/colab-badge.svg\" alt=\"Open In Colab\"/></a>"
      ]
    },
    {
      "cell_type": "markdown",
      "metadata": {
        "id": "z0MmKU-nsV2K"
      },
      "source": [
        "# Game of PIG"
      ]
    },
    {
      "cell_type": "code",
      "execution_count": 1,
      "metadata": {
        "id": "VVp9Qa7Wsr00"
      },
      "outputs": [],
      "source": [
        "import jax.numpy as jnp\n",
        "from jax import random as jrandom\n",
        "from jax import nn as jnn\n",
        "from jax import jit\n",
        "import random\n",
        "import time"
      ]
    },
    {
      "cell_type": "code",
      "execution_count": 2,
      "metadata": {
        "id": "-os6obQosSwa"
      },
      "outputs": [],
      "source": [
        "# turn states\n",
        "ROLL, END, BUST = 'roll', 'end', 'bust'\n",
        "\n",
        "# game parameters\n",
        "N_PLAYERS = 3"
      ]
    },
    {
      "cell_type": "markdown",
      "source": [
        "### Helper functions"
      ],
      "metadata": {
        "id": "x_QJvwziTofH"
      }
    },
    {
      "cell_type": "code",
      "source": [
        "def rollDice(random_key):\n",
        "  return jrandom.randint(random_key, [1], 1, 7, dtype=jnp.dtype('u1'))"
      ],
      "metadata": {
        "id": "zA-ttUO8Tm9_"
      },
      "execution_count": 3,
      "outputs": []
    },
    {
      "cell_type": "markdown",
      "source": [
        "### Game Functions"
      ],
      "metadata": {
        "id": "aBy9f078Tsdp"
      }
    },
    {
      "cell_type": "code",
      "execution_count": 4,
      "metadata": {
        "id": "fcfwrYxos3M5"
      },
      "outputs": [],
      "source": [
        "def dumbAI(roll_num, curr_score, curr_run):\n",
        "  return END if (roll_num >  1 or curr_score + curr_run + roll_num >= 100) else ROLL\n",
        "\n",
        "def slightlyLessDumbAI(roll_num, curr_score, curr_run):\n",
        "  return END if (roll_num >  2 or curr_score + curr_run + roll_num >= 100) else ROLL\n",
        "\n",
        "def reallyDumbAI(roll_num, curr_score, curr_run):\n",
        "  return END if curr_score + curr_run >= 100 else ROLL\n",
        "\n",
        "# the number of players is given by the length of the AI array\n",
        "def playGame(random_key, AIs, verbose=False):\n",
        "  num_players = len(AIs)\n",
        "  player_scores = jnp.zeros(num_players)\n",
        "\n",
        "  # will exit if a player reaches a score greater than 100\n",
        "  while True:\n",
        "    for i in range(num_players):\n",
        "      if verbose:\n",
        "        print(\"Player \" + str(i+1) + \"'s turn (current score: \" + str(player_scores[i]) + \")\")\n",
        "      # reset state\n",
        "      current_state = ROLL\n",
        "      player_current_run = 0\n",
        "      num_rolls_in_run = 0\n",
        "\n",
        "      while current_state == ROLL:\n",
        "        random_key, subrandom_key = jrandom.split(random_key)\n",
        "        roll = int(rollDice(subrandom_key))\n",
        "          \n",
        "\n",
        "        # game rules (roll 1 -> bust, otherwise add to current run score)\n",
        "        if roll == 1:\n",
        "          current_state = BUST\n",
        "          if verbose: print(\"---- busted\")\n",
        "        else:\n",
        "          num_rolls_in_run = num_rolls_in_run + 1\n",
        "          player_current_run = player_current_run + roll\n",
        "          if verbose: print(\"---- rolled: \" + str(roll) + \" (current run: \" + str(player_current_run) + \")\")\n",
        "        \n",
        "        if current_state != BUST:\n",
        "          # player chooses whether to continue or accept current runs score\n",
        "          current_state = AIs[i](num_rolls_in_run, player_scores[i], player_current_run)\n",
        "          if current_state == END:\n",
        "            if verbose: print(\"---- ended turn\")\n",
        "            player_scores = player_scores.at[i].set(player_scores[i] + player_current_run)\n",
        "          if current_state == ROLL:\n",
        "            if verbose: print(\"---- rolling again\")\n",
        "          if (player_scores[i] >= 100):\n",
        "            print(\"---- wins!\")\n",
        "            return player_scores, i\n",
        "\n",
        "def runNGames(N_runs, random_key, AIs, verbose=False):\n",
        "  num_wins = [0] * len(AIs)\n",
        "  print(\"Running..\")\n",
        "  for i in range(N_runs):\n",
        "    if verbose: print(\"GAME # \" + str(i+1))\n",
        "    random_key, subrandom_key = jrandom.split(random_key)\n",
        "    scores, winner = playGame(subrandom_key, AIs, verbose)\n",
        "    num_wins[winner] = num_wins[winner] + 1\n",
        "\n",
        "  print(\"Results are \" + str(num_wins))"
      ]
    },
    {
      "cell_type": "code",
      "source": [
        "# initialize 4 AI players\n",
        "AIs = [dumbAI] * 4\n",
        "AIs[0] = slightlyLessDumbAI\n",
        "AIs[1] = reallyDumbAI\n",
        "\n",
        "random_key = jrandom.PRNGKey(int(time.time()))\n",
        "runNGames(1, random_key, AIs, True)"
      ],
      "metadata": {
        "colab": {
          "base_uri": "https://localhost:8080/"
        },
        "id": "4FkvW-BoEi-S",
        "outputId": "33c4dae5-eb56-4c53-b323-2a953086421c"
      },
      "execution_count": 5,
      "outputs": [
        {
          "output_type": "stream",
          "name": "stderr",
          "text": [
            "WARNING:absl:No GPU/TPU found, falling back to CPU. (Set TF_CPP_MIN_LOG_LEVEL=0 and rerun for more info.)\n"
          ]
        },
        {
          "output_type": "stream",
          "name": "stdout",
          "text": [
            "Running..\n",
            "GAME # 1\n",
            "Player 1's turn (current score: 0.0)\n",
            "---- rolled: 6 (current run: 6)\n",
            "---- rolling again\n",
            "---- rolled: 5 (current run: 11)\n",
            "---- rolling again\n",
            "---- rolled: 5 (current run: 16)\n",
            "---- ended turn\n",
            "Player 2's turn (current score: 0.0)\n",
            "---- rolled: 2 (current run: 2)\n",
            "---- rolling again\n",
            "---- rolled: 6 (current run: 8)\n",
            "---- rolling again\n",
            "---- rolled: 6 (current run: 14)\n",
            "---- rolling again\n",
            "---- rolled: 4 (current run: 18)\n",
            "---- rolling again\n",
            "---- rolled: 2 (current run: 20)\n",
            "---- rolling again\n",
            "---- rolled: 5 (current run: 25)\n",
            "---- rolling again\n",
            "---- busted\n",
            "Player 3's turn (current score: 0.0)\n",
            "---- rolled: 6 (current run: 6)\n",
            "---- rolling again\n",
            "---- rolled: 6 (current run: 12)\n",
            "---- ended turn\n",
            "Player 4's turn (current score: 0.0)\n",
            "---- busted\n",
            "Player 1's turn (current score: 16.0)\n",
            "---- rolled: 4 (current run: 4)\n",
            "---- rolling again\n",
            "---- rolled: 3 (current run: 7)\n",
            "---- rolling again\n",
            "---- rolled: 6 (current run: 13)\n",
            "---- ended turn\n",
            "Player 2's turn (current score: 0.0)\n",
            "---- rolled: 2 (current run: 2)\n",
            "---- rolling again\n",
            "---- rolled: 3 (current run: 5)\n",
            "---- rolling again\n",
            "---- rolled: 4 (current run: 9)\n",
            "---- rolling again\n",
            "---- rolled: 2 (current run: 11)\n",
            "---- rolling again\n",
            "---- rolled: 3 (current run: 14)\n",
            "---- rolling again\n",
            "---- rolled: 6 (current run: 20)\n",
            "---- rolling again\n",
            "---- rolled: 2 (current run: 22)\n",
            "---- rolling again\n",
            "---- rolled: 3 (current run: 25)\n",
            "---- rolling again\n",
            "---- rolled: 5 (current run: 30)\n",
            "---- rolling again\n",
            "---- rolled: 4 (current run: 34)\n",
            "---- rolling again\n",
            "---- rolled: 3 (current run: 37)\n",
            "---- rolling again\n",
            "---- rolled: 3 (current run: 40)\n",
            "---- rolling again\n",
            "---- rolled: 6 (current run: 46)\n",
            "---- rolling again\n",
            "---- rolled: 6 (current run: 52)\n",
            "---- rolling again\n",
            "---- rolled: 3 (current run: 55)\n",
            "---- rolling again\n",
            "---- busted\n",
            "Player 3's turn (current score: 12.0)\n",
            "---- rolled: 6 (current run: 6)\n",
            "---- rolling again\n",
            "---- rolled: 2 (current run: 8)\n",
            "---- ended turn\n",
            "Player 4's turn (current score: 0.0)\n",
            "---- rolled: 4 (current run: 4)\n",
            "---- rolling again\n",
            "---- busted\n",
            "Player 1's turn (current score: 29.0)\n",
            "---- busted\n",
            "Player 2's turn (current score: 0.0)\n",
            "---- rolled: 5 (current run: 5)\n",
            "---- rolling again\n",
            "---- rolled: 3 (current run: 8)\n",
            "---- rolling again\n",
            "---- rolled: 4 (current run: 12)\n",
            "---- rolling again\n",
            "---- rolled: 5 (current run: 17)\n",
            "---- rolling again\n",
            "---- rolled: 4 (current run: 21)\n",
            "---- rolling again\n",
            "---- rolled: 4 (current run: 25)\n",
            "---- rolling again\n",
            "---- rolled: 5 (current run: 30)\n",
            "---- rolling again\n",
            "---- rolled: 3 (current run: 33)\n",
            "---- rolling again\n",
            "---- rolled: 4 (current run: 37)\n",
            "---- rolling again\n",
            "---- busted\n",
            "Player 3's turn (current score: 20.0)\n",
            "---- rolled: 4 (current run: 4)\n",
            "---- rolling again\n",
            "---- rolled: 3 (current run: 7)\n",
            "---- ended turn\n",
            "Player 4's turn (current score: 0.0)\n",
            "---- busted\n",
            "Player 1's turn (current score: 29.0)\n",
            "---- rolled: 6 (current run: 6)\n",
            "---- rolling again\n",
            "---- rolled: 6 (current run: 12)\n",
            "---- rolling again\n",
            "---- rolled: 2 (current run: 14)\n",
            "---- ended turn\n",
            "Player 2's turn (current score: 0.0)\n",
            "---- rolled: 3 (current run: 3)\n",
            "---- rolling again\n",
            "---- rolled: 4 (current run: 7)\n",
            "---- rolling again\n",
            "---- rolled: 6 (current run: 13)\n",
            "---- rolling again\n",
            "---- rolled: 2 (current run: 15)\n",
            "---- rolling again\n",
            "---- rolled: 6 (current run: 21)\n",
            "---- rolling again\n",
            "---- rolled: 6 (current run: 27)\n",
            "---- rolling again\n",
            "---- rolled: 2 (current run: 29)\n",
            "---- rolling again\n",
            "---- rolled: 4 (current run: 33)\n",
            "---- rolling again\n",
            "---- rolled: 3 (current run: 36)\n",
            "---- rolling again\n",
            "---- rolled: 3 (current run: 39)\n",
            "---- rolling again\n",
            "---- rolled: 4 (current run: 43)\n",
            "---- rolling again\n",
            "---- rolled: 3 (current run: 46)\n",
            "---- rolling again\n",
            "---- rolled: 6 (current run: 52)\n",
            "---- rolling again\n",
            "---- rolled: 6 (current run: 58)\n",
            "---- rolling again\n",
            "---- rolled: 3 (current run: 61)\n",
            "---- rolling again\n",
            "---- rolled: 3 (current run: 64)\n",
            "---- rolling again\n",
            "---- rolled: 3 (current run: 67)\n",
            "---- rolling again\n",
            "---- rolled: 5 (current run: 72)\n",
            "---- rolling again\n",
            "---- rolled: 5 (current run: 77)\n",
            "---- rolling again\n",
            "---- rolled: 3 (current run: 80)\n",
            "---- rolling again\n",
            "---- rolled: 3 (current run: 83)\n",
            "---- rolling again\n",
            "---- rolled: 6 (current run: 89)\n",
            "---- rolling again\n",
            "---- rolled: 6 (current run: 95)\n",
            "---- rolling again\n",
            "---- rolled: 5 (current run: 100)\n",
            "---- ended turn\n",
            "---- wins!\n",
            "Results are [0, 1, 0, 0]\n"
          ]
        }
      ]
    }
  ],
  "metadata": {
    "colab": {
      "collapsed_sections": [],
      "name": "Game of PIG.ipynb",
      "provenance": [],
      "authorship_tag": "ABX9TyPtsoDlbfNjAyJ6yqa0K+PR",
      "include_colab_link": true
    },
    "kernelspec": {
      "display_name": "Python 3",
      "name": "python3"
    },
    "language_info": {
      "name": "python"
    }
  },
  "nbformat": 4,
  "nbformat_minor": 0
}